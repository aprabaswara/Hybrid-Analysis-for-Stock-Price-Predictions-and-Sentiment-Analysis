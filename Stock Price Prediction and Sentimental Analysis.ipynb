{
 "cells": [
  {
   "cell_type": "markdown",
   "metadata": {
    "id": "fNaHYHcP-Oyy"
   },
   "source": [
    "# Stock Price Prediction and Sentimental Analysis\n"
   ]
  },
  {
   "cell_type": "markdown",
   "metadata": {
    "id": "iwzs2FyQ-T2a"
   },
   "source": [
    "### Author : Aditya Prabaswara Mardjikoen"
   ]
  },
  {
   "cell_type": "markdown",
   "metadata": {},
   "source": [
    "### The Sparks Foundation Internship (April 2021) Task 7 - Stock Market Prediction using Numerical and Textual Analysis"
   ]
  },
  {
   "cell_type": "markdown",
   "metadata": {
    "id": "LWVQKwd9-ZdL"
   },
   "source": [
    "In this task, I will create a hybrid analysis for analyzing stock price or performance prediction using numerical analysis of historical stock prices, and sentimental analysis of news headlines."
   ]
  },
  {
   "cell_type": "markdown",
   "metadata": {},
   "source": [
    "### Import Python Library and Data"
   ]
  },
  {
   "cell_type": "markdown",
   "metadata": {},
   "source": [
    "First we will import the required Python library and display the data in the dataset."
   ]
  },
  {
   "cell_type": "code",
   "execution_count": 44,
   "metadata": {
    "id": "Y8CAkZlW-HOg"
   },
   "outputs": [],
   "source": [
    "# Import Python library\n",
    "import pandas_datareader as dr\n",
    "import matplotlib.pyplot as plt\n",
    "import pandas as pd\n",
    "import datetime\n",
    "import numpy as np\n",
    "import warnings\n",
    "warnings.simplefilter(\"ignore\")\n",
    "%matplotlib inline"
   ]
  },
  {
   "cell_type": "code",
   "execution_count": 45,
   "metadata": {
    "colab": {
     "base_uri": "https://localhost:8080/",
     "height": 431
    },
    "id": "14EZsvFf-cUG",
    "outputId": "b93b1499-7b47-4c9b-ca99-ce12724119a7"
   },
   "outputs": [
    {
     "data": {
      "text/html": [
       "<div>\n",
       "<style scoped>\n",
       "    .dataframe tbody tr th:only-of-type {\n",
       "        vertical-align: middle;\n",
       "    }\n",
       "\n",
       "    .dataframe tbody tr th {\n",
       "        vertical-align: top;\n",
       "    }\n",
       "\n",
       "    .dataframe thead th {\n",
       "        text-align: right;\n",
       "    }\n",
       "</style>\n",
       "<table border=\"1\" class=\"dataframe\">\n",
       "  <thead>\n",
       "    <tr style=\"text-align: right;\">\n",
       "      <th></th>\n",
       "      <th>High</th>\n",
       "      <th>Low</th>\n",
       "      <th>Open</th>\n",
       "      <th>Close</th>\n",
       "      <th>Volume</th>\n",
       "      <th>Adj Close</th>\n",
       "    </tr>\n",
       "    <tr>\n",
       "      <th>Date</th>\n",
       "      <th></th>\n",
       "      <th></th>\n",
       "      <th></th>\n",
       "      <th></th>\n",
       "      <th></th>\n",
       "      <th></th>\n",
       "    </tr>\n",
       "  </thead>\n",
       "  <tbody>\n",
       "    <tr>\n",
       "      <th>2016-04-18</th>\n",
       "      <td>321.310425</td>\n",
       "      <td>312.164154</td>\n",
       "      <td>316.213287</td>\n",
       "      <td>319.690765</td>\n",
       "      <td>7549816.0</td>\n",
       "      <td>286.675140</td>\n",
       "    </tr>\n",
       "    <tr>\n",
       "      <th>2016-04-20</th>\n",
       "      <td>342.318268</td>\n",
       "      <td>321.739166</td>\n",
       "      <td>321.977356</td>\n",
       "      <td>340.555725</td>\n",
       "      <td>19294099.0</td>\n",
       "      <td>305.385284</td>\n",
       "    </tr>\n",
       "    <tr>\n",
       "      <th>2016-04-21</th>\n",
       "      <td>346.843781</td>\n",
       "      <td>336.411316</td>\n",
       "      <td>341.841919</td>\n",
       "      <td>337.792786</td>\n",
       "      <td>10864121.0</td>\n",
       "      <td>302.907715</td>\n",
       "    </tr>\n",
       "    <tr>\n",
       "      <th>2016-04-22</th>\n",
       "      <td>346.557953</td>\n",
       "      <td>335.649109</td>\n",
       "      <td>341.079712</td>\n",
       "      <td>336.935303</td>\n",
       "      <td>12695922.0</td>\n",
       "      <td>302.138794</td>\n",
       "    </tr>\n",
       "    <tr>\n",
       "      <th>2016-04-25</th>\n",
       "      <td>336.982941</td>\n",
       "      <td>328.265411</td>\n",
       "      <td>335.839661</td>\n",
       "      <td>331.028351</td>\n",
       "      <td>6465189.0</td>\n",
       "      <td>296.841888</td>\n",
       "    </tr>\n",
       "    <tr>\n",
       "      <th>...</th>\n",
       "      <td>...</td>\n",
       "      <td>...</td>\n",
       "      <td>...</td>\n",
       "      <td>...</td>\n",
       "      <td>...</td>\n",
       "      <td>...</td>\n",
       "    </tr>\n",
       "    <tr>\n",
       "      <th>2021-04-09</th>\n",
       "      <td>930.000000</td>\n",
       "      <td>885.700012</td>\n",
       "      <td>921.000000</td>\n",
       "      <td>899.500000</td>\n",
       "      <td>32179069.0</td>\n",
       "      <td>899.500000</td>\n",
       "    </tr>\n",
       "    <tr>\n",
       "      <th>2021-04-12</th>\n",
       "      <td>893.200012</td>\n",
       "      <td>843.349976</td>\n",
       "      <td>876.549988</td>\n",
       "      <td>851.549988</td>\n",
       "      <td>22135504.0</td>\n",
       "      <td>851.549988</td>\n",
       "    </tr>\n",
       "    <tr>\n",
       "      <th>2021-04-13</th>\n",
       "      <td>881.599976</td>\n",
       "      <td>849.000000</td>\n",
       "      <td>862.000000</td>\n",
       "      <td>879.000000</td>\n",
       "      <td>20428502.0</td>\n",
       "      <td>879.000000</td>\n",
       "    </tr>\n",
       "    <tr>\n",
       "      <th>2021-04-15</th>\n",
       "      <td>911.500000</td>\n",
       "      <td>879.500000</td>\n",
       "      <td>892.000000</td>\n",
       "      <td>898.200012</td>\n",
       "      <td>21856357.0</td>\n",
       "      <td>898.200012</td>\n",
       "    </tr>\n",
       "    <tr>\n",
       "      <th>2021-04-16</th>\n",
       "      <td>914.400024</td>\n",
       "      <td>886.250000</td>\n",
       "      <td>903.799988</td>\n",
       "      <td>890.250000</td>\n",
       "      <td>17398598.0</td>\n",
       "      <td>890.250000</td>\n",
       "    </tr>\n",
       "  </tbody>\n",
       "</table>\n",
       "<p>1233 rows × 6 columns</p>\n",
       "</div>"
      ],
      "text/plain": [
       "                  High         Low        Open       Close      Volume  \\\n",
       "Date                                                                     \n",
       "2016-04-18  321.310425  312.164154  316.213287  319.690765   7549816.0   \n",
       "2016-04-20  342.318268  321.739166  321.977356  340.555725  19294099.0   \n",
       "2016-04-21  346.843781  336.411316  341.841919  337.792786  10864121.0   \n",
       "2016-04-22  346.557953  335.649109  341.079712  336.935303  12695922.0   \n",
       "2016-04-25  336.982941  328.265411  335.839661  331.028351   6465189.0   \n",
       "...                ...         ...         ...         ...         ...   \n",
       "2021-04-09  930.000000  885.700012  921.000000  899.500000  32179069.0   \n",
       "2021-04-12  893.200012  843.349976  876.549988  851.549988  22135504.0   \n",
       "2021-04-13  881.599976  849.000000  862.000000  879.000000  20428502.0   \n",
       "2021-04-15  911.500000  879.500000  892.000000  898.200012  21856357.0   \n",
       "2021-04-16  914.400024  886.250000  903.799988  890.250000  17398598.0   \n",
       "\n",
       "             Adj Close  \n",
       "Date                    \n",
       "2016-04-18  286.675140  \n",
       "2016-04-20  305.385284  \n",
       "2016-04-21  302.907715  \n",
       "2016-04-22  302.138794  \n",
       "2016-04-25  296.841888  \n",
       "...                ...  \n",
       "2021-04-09  899.500000  \n",
       "2021-04-12  851.549988  \n",
       "2021-04-13  879.000000  \n",
       "2021-04-15  898.200012  \n",
       "2021-04-16  890.250000  \n",
       "\n",
       "[1233 rows x 6 columns]"
      ]
     },
     "execution_count": 45,
     "metadata": {},
     "output_type": "execute_result"
    }
   ],
   "source": [
    "# Import data\n",
    "df=dr.data.get_data_yahoo('TATASTEEL.NS',start='2016-04-17',end='2021-04-17')\n",
    "df"
   ]
  },
  {
   "cell_type": "code",
   "execution_count": 46,
   "metadata": {
    "colab": {
     "base_uri": "https://localhost:8080/"
    },
    "id": "bTUPFxs0-hJG",
    "outputId": "f336e476-5910-48e4-ad14-c0497a45fdab"
   },
   "outputs": [
    {
     "name": "stdout",
     "output_type": "stream",
     "text": [
      "Rows: 1233\n",
      "Columns: 6\n"
     ]
    }
   ],
   "source": [
    "# Display data shape\n",
    "print('Rows: {}'.format(df.shape[0]))\n",
    "print('Columns: {}'.format(df.shape[1]))"
   ]
  },
  {
   "cell_type": "markdown",
   "metadata": {},
   "source": [
    "We can see that the stock price data has 1233 rows and 6 columns."
   ]
  },
  {
   "cell_type": "code",
   "execution_count": 47,
   "metadata": {
    "colab": {
     "base_uri": "https://localhost:8080/",
     "height": 225
    },
    "id": "vkpX2wvN-jXe",
    "outputId": "bcadfc74-085e-41df-efbe-56a6246cf12a"
   },
   "outputs": [
    {
     "data": {
      "text/html": [
       "<div>\n",
       "<style scoped>\n",
       "    .dataframe tbody tr th:only-of-type {\n",
       "        vertical-align: middle;\n",
       "    }\n",
       "\n",
       "    .dataframe tbody tr th {\n",
       "        vertical-align: top;\n",
       "    }\n",
       "\n",
       "    .dataframe thead th {\n",
       "        text-align: right;\n",
       "    }\n",
       "</style>\n",
       "<table border=\"1\" class=\"dataframe\">\n",
       "  <thead>\n",
       "    <tr style=\"text-align: right;\">\n",
       "      <th></th>\n",
       "      <th>High</th>\n",
       "      <th>Low</th>\n",
       "      <th>Open</th>\n",
       "      <th>Close</th>\n",
       "      <th>Volume</th>\n",
       "      <th>Adj Close</th>\n",
       "    </tr>\n",
       "    <tr>\n",
       "      <th>Date</th>\n",
       "      <th></th>\n",
       "      <th></th>\n",
       "      <th></th>\n",
       "      <th></th>\n",
       "      <th></th>\n",
       "      <th></th>\n",
       "    </tr>\n",
       "  </thead>\n",
       "  <tbody>\n",
       "    <tr>\n",
       "      <th>2016-04-18</th>\n",
       "      <td>321.310425</td>\n",
       "      <td>312.164154</td>\n",
       "      <td>316.213287</td>\n",
       "      <td>319.690765</td>\n",
       "      <td>7549816.0</td>\n",
       "      <td>286.675140</td>\n",
       "    </tr>\n",
       "    <tr>\n",
       "      <th>2016-04-20</th>\n",
       "      <td>342.318268</td>\n",
       "      <td>321.739166</td>\n",
       "      <td>321.977356</td>\n",
       "      <td>340.555725</td>\n",
       "      <td>19294099.0</td>\n",
       "      <td>305.385284</td>\n",
       "    </tr>\n",
       "    <tr>\n",
       "      <th>2016-04-21</th>\n",
       "      <td>346.843781</td>\n",
       "      <td>336.411316</td>\n",
       "      <td>341.841919</td>\n",
       "      <td>337.792786</td>\n",
       "      <td>10864121.0</td>\n",
       "      <td>302.907715</td>\n",
       "    </tr>\n",
       "    <tr>\n",
       "      <th>2016-04-22</th>\n",
       "      <td>346.557953</td>\n",
       "      <td>335.649109</td>\n",
       "      <td>341.079712</td>\n",
       "      <td>336.935303</td>\n",
       "      <td>12695922.0</td>\n",
       "      <td>302.138794</td>\n",
       "    </tr>\n",
       "    <tr>\n",
       "      <th>2016-04-25</th>\n",
       "      <td>336.982941</td>\n",
       "      <td>328.265411</td>\n",
       "      <td>335.839661</td>\n",
       "      <td>331.028351</td>\n",
       "      <td>6465189.0</td>\n",
       "      <td>296.841888</td>\n",
       "    </tr>\n",
       "  </tbody>\n",
       "</table>\n",
       "</div>"
      ],
      "text/plain": [
       "                  High         Low        Open       Close      Volume  \\\n",
       "Date                                                                     \n",
       "2016-04-18  321.310425  312.164154  316.213287  319.690765   7549816.0   \n",
       "2016-04-20  342.318268  321.739166  321.977356  340.555725  19294099.0   \n",
       "2016-04-21  346.843781  336.411316  341.841919  337.792786  10864121.0   \n",
       "2016-04-22  346.557953  335.649109  341.079712  336.935303  12695922.0   \n",
       "2016-04-25  336.982941  328.265411  335.839661  331.028351   6465189.0   \n",
       "\n",
       "             Adj Close  \n",
       "Date                    \n",
       "2016-04-18  286.675140  \n",
       "2016-04-20  305.385284  \n",
       "2016-04-21  302.907715  \n",
       "2016-04-22  302.138794  \n",
       "2016-04-25  296.841888  "
      ]
     },
     "execution_count": 47,
     "metadata": {},
     "output_type": "execute_result"
    }
   ],
   "source": [
    "# Display the first five row in the dataset\n",
    "df.head()"
   ]
  },
  {
   "cell_type": "code",
   "execution_count": 48,
   "metadata": {
    "colab": {
     "base_uri": "https://localhost:8080/",
     "height": 225
    },
    "id": "aNWwDhfN-mgk",
    "outputId": "bdc39b0c-631a-4988-b432-18d64ad977b7"
   },
   "outputs": [
    {
     "data": {
      "text/html": [
       "<div>\n",
       "<style scoped>\n",
       "    .dataframe tbody tr th:only-of-type {\n",
       "        vertical-align: middle;\n",
       "    }\n",
       "\n",
       "    .dataframe tbody tr th {\n",
       "        vertical-align: top;\n",
       "    }\n",
       "\n",
       "    .dataframe thead th {\n",
       "        text-align: right;\n",
       "    }\n",
       "</style>\n",
       "<table border=\"1\" class=\"dataframe\">\n",
       "  <thead>\n",
       "    <tr style=\"text-align: right;\">\n",
       "      <th></th>\n",
       "      <th>High</th>\n",
       "      <th>Low</th>\n",
       "      <th>Open</th>\n",
       "      <th>Close</th>\n",
       "      <th>Volume</th>\n",
       "      <th>Adj Close</th>\n",
       "    </tr>\n",
       "    <tr>\n",
       "      <th>Date</th>\n",
       "      <th></th>\n",
       "      <th></th>\n",
       "      <th></th>\n",
       "      <th></th>\n",
       "      <th></th>\n",
       "      <th></th>\n",
       "    </tr>\n",
       "  </thead>\n",
       "  <tbody>\n",
       "    <tr>\n",
       "      <th>2021-04-09</th>\n",
       "      <td>930.000000</td>\n",
       "      <td>885.700012</td>\n",
       "      <td>921.000000</td>\n",
       "      <td>899.500000</td>\n",
       "      <td>32179069.0</td>\n",
       "      <td>899.500000</td>\n",
       "    </tr>\n",
       "    <tr>\n",
       "      <th>2021-04-12</th>\n",
       "      <td>893.200012</td>\n",
       "      <td>843.349976</td>\n",
       "      <td>876.549988</td>\n",
       "      <td>851.549988</td>\n",
       "      <td>22135504.0</td>\n",
       "      <td>851.549988</td>\n",
       "    </tr>\n",
       "    <tr>\n",
       "      <th>2021-04-13</th>\n",
       "      <td>881.599976</td>\n",
       "      <td>849.000000</td>\n",
       "      <td>862.000000</td>\n",
       "      <td>879.000000</td>\n",
       "      <td>20428502.0</td>\n",
       "      <td>879.000000</td>\n",
       "    </tr>\n",
       "    <tr>\n",
       "      <th>2021-04-15</th>\n",
       "      <td>911.500000</td>\n",
       "      <td>879.500000</td>\n",
       "      <td>892.000000</td>\n",
       "      <td>898.200012</td>\n",
       "      <td>21856357.0</td>\n",
       "      <td>898.200012</td>\n",
       "    </tr>\n",
       "    <tr>\n",
       "      <th>2021-04-16</th>\n",
       "      <td>914.400024</td>\n",
       "      <td>886.250000</td>\n",
       "      <td>903.799988</td>\n",
       "      <td>890.250000</td>\n",
       "      <td>17398598.0</td>\n",
       "      <td>890.250000</td>\n",
       "    </tr>\n",
       "  </tbody>\n",
       "</table>\n",
       "</div>"
      ],
      "text/plain": [
       "                  High         Low        Open       Close      Volume  \\\n",
       "Date                                                                     \n",
       "2021-04-09  930.000000  885.700012  921.000000  899.500000  32179069.0   \n",
       "2021-04-12  893.200012  843.349976  876.549988  851.549988  22135504.0   \n",
       "2021-04-13  881.599976  849.000000  862.000000  879.000000  20428502.0   \n",
       "2021-04-15  911.500000  879.500000  892.000000  898.200012  21856357.0   \n",
       "2021-04-16  914.400024  886.250000  903.799988  890.250000  17398598.0   \n",
       "\n",
       "             Adj Close  \n",
       "Date                    \n",
       "2021-04-09  899.500000  \n",
       "2021-04-12  851.549988  \n",
       "2021-04-13  879.000000  \n",
       "2021-04-15  898.200012  \n",
       "2021-04-16  890.250000  "
      ]
     },
     "execution_count": 48,
     "metadata": {},
     "output_type": "execute_result"
    }
   ],
   "source": [
    "# Display the last five row in the dataset\n",
    "df.tail()"
   ]
  },
  {
   "cell_type": "markdown",
   "metadata": {},
   "source": [
    "Next we will check the data type, the descriptive statistics, and the null values in the dataset."
   ]
  },
  {
   "cell_type": "code",
   "execution_count": 49,
   "metadata": {
    "colab": {
     "base_uri": "https://localhost:8080/"
    },
    "id": "QIH85oAa-nco",
    "outputId": "317e0da9-14a0-4955-fefa-5ad687656a22"
   },
   "outputs": [
    {
     "name": "stdout",
     "output_type": "stream",
     "text": [
      "<class 'pandas.core.frame.DataFrame'>\n",
      "DatetimeIndex: 1233 entries, 2016-04-18 to 2021-04-16\n",
      "Data columns (total 6 columns):\n",
      " #   Column     Non-Null Count  Dtype  \n",
      "---  ------     --------------  -----  \n",
      " 0   High       1233 non-null   float64\n",
      " 1   Low        1233 non-null   float64\n",
      " 2   Open       1233 non-null   float64\n",
      " 3   Close      1233 non-null   float64\n",
      " 4   Volume     1233 non-null   float64\n",
      " 5   Adj Close  1233 non-null   float64\n",
      "dtypes: float64(6)\n",
      "memory usage: 67.4 KB\n"
     ]
    }
   ],
   "source": [
    "# Display data type\n",
    "df.info()"
   ]
  },
  {
   "cell_type": "code",
   "execution_count": 50,
   "metadata": {
    "colab": {
     "base_uri": "https://localhost:8080/"
    },
    "id": "S8AQi1Vu-o_H",
    "outputId": "24bdf910-8315-4780-e834-06b0f0bf030e"
   },
   "outputs": [
    {
     "data": {
      "text/plain": [
       "High         0\n",
       "Low          0\n",
       "Open         0\n",
       "Close        0\n",
       "Volume       0\n",
       "Adj Close    0\n",
       "dtype: int64"
      ]
     },
     "execution_count": 50,
     "metadata": {},
     "output_type": "execute_result"
    }
   ],
   "source": [
    "# Check for null value\n",
    "df.isnull().sum()"
   ]
  },
  {
   "cell_type": "markdown",
   "metadata": {},
   "source": [
    "We can see that there is no null values in the stocks prize data. Now let see the trend of the close price in the stocks."
   ]
  },
  {
   "cell_type": "code",
   "execution_count": 51,
   "metadata": {
    "colab": {
     "base_uri": "https://localhost:8080/",
     "height": 521
    },
    "id": "EpyGH_nv-tKu",
    "outputId": "97fc759a-a68c-4c1b-a12b-ccd58bd9d82b"
   },
   "outputs": [
    {
     "data": {
      "image/png": "[encoded data removed]",
      "text/plain": [
       "<Figure size 864x576 with 1 Axes>"
      ]
     },
     "metadata": {
      "needs_background": "light"
     },
     "output_type": "display_data"
    }
   ],
   "source": [
    "# Plot close price history\n",
    "plt.figure(figsize=(12,8))\n",
    "plt.title('Close price history')\n",
    "plt.plot(df['Close'])\n",
    "plt.xlabel('Date',fontsize=18)\n",
    "plt.ylabel('Close price Rupees',fontsize=18)\n",
    "plt.show()"
   ]
  },
  {
   "cell_type": "markdown",
   "metadata": {},
   "source": [
    "### Stock Price Predictions"
   ]
  },
  {
   "cell_type": "markdown",
   "metadata": {},
   "source": [
    "In this section, I will give a procedure to predict stock price using LSTM. Before I create my prediction analysis, I will see the amount of data before and after splitting 70% of it."
   ]
  },
  {
   "cell_type": "code",
   "execution_count": 52,
   "metadata": {
    "id": "DqCils1G-7fU"
   },
   "outputs": [
    {
     "data": {
      "text/plain": [
       "1233"
      ]
     },
     "execution_count": 52,
     "metadata": {},
     "output_type": "execute_result"
    }
   ],
   "source": [
    "# Before splitting\n",
    "import math\n",
    "data=df.filter(['Close'])\n",
    "df_1=data.values\n",
    "len(df_1)"
   ]
  },
  {
   "cell_type": "code",
   "execution_count": 53,
   "metadata": {
    "colab": {
     "base_uri": "https://localhost:8080/"
    },
    "id": "GfPjXz2C-9JV",
    "outputId": "b6869103-f394-4aab-88dd-942651579212"
   },
   "outputs": [
    {
     "data": {
      "text/plain": [
       "864"
      ]
     },
     "execution_count": 53,
     "metadata": {},
     "output_type": "execute_result"
    }
   ],
   "source": [
    "# After splitting\n",
    "train_size=math.ceil(len(df_1)*.7)\n",
    "train_size"
   ]
  },
  {
   "cell_type": "markdown",
   "metadata": {},
   "source": [
    "Now lets transform our data by using min-max scaling."
   ]
  },
  {
   "cell_type": "code",
   "execution_count": 54,
   "metadata": {
    "colab": {
     "base_uri": "https://localhost:8080/"
    },
    "id": "4Y-yL0TJ--9L",
    "outputId": "f24deb23-7d54-4bcb-f82d-85f84c062237"
   },
   "outputs": [
    {
     "data": {
      "text/plain": [
       "array([[0.09921126],\n",
       "       [0.13060366],\n",
       "       [0.12644668],\n",
       "       ...,\n",
       "       [0.94072065],\n",
       "       [0.96960805],\n",
       "       [0.95764685]])"
      ]
     },
     "execution_count": 54,
     "metadata": {},
     "output_type": "execute_result"
    }
   ],
   "source": [
    "# Transform the stock price data\n",
    "from sklearn.preprocessing import MinMaxScaler\n",
    "scaler=MinMaxScaler(feature_range=(0,1))\n",
    "scaled=scaler.fit_transform(df_1)\n",
    "scaled"
   ]
  },
  {
   "cell_type": "markdown",
   "metadata": {},
   "source": [
    "Then, we split our data into training data and test data."
   ]
  },
  {
   "cell_type": "code",
   "execution_count": 55,
   "metadata": {
    "colab": {
     "base_uri": "https://localhost:8080/"
    },
    "id": "CRtmzcJS_Bil",
    "outputId": "6bf70867-49ae-473b-ed42-e5497bb547ed"
   },
   "outputs": [
    {
     "name": "stdout",
     "output_type": "stream",
     "text": [
      "[array([0.09921126, 0.13060366, 0.12644668, 0.12515655, 0.11626924,\n",
      "       0.13225211, 0.12960023, 0.11648426, 0.12150128, 0.1155525 ,\n",
      "       0.11834773, 0.08946386, 0.09383587, 0.09025227, 0.08939219,\n",
      "       0.08846048, 0.09096901, 0.09211574, 0.0807199 , 0.08609529,\n",
      "       0.0871704 , 0.0898939 , 0.08588027, 0.0807199 , 0.06767556,\n",
      "       0.07362434, 0.08351508, 0.08437517, 0.09068232, 0.08028986,\n",
      "       0.09749114, 0.09433758, 0.10652184, 0.10351159, 0.1025082 ,\n",
      "       0.10931702, 0.10774025, 0.10852866, 0.09756281, 0.08136492,\n",
      "       0.0840168 , 0.09161403, 0.0919724 , 0.08473353, 0.10021469,\n",
      "       0.09706114, 0.09476763, 0.09691779, 0.06638548, 0.0633036 ,\n",
      "       0.06473703, 0.06774723, 0.07971647, 0.08853215, 0.0930475 ,\n",
      "       0.09648775, 0.07362434, 0.0745561 , 0.08695537, 0.10888703])]\n",
      "[0.13103365533398487]\n",
      "[array([0.09921126, 0.13060366, 0.12644668, 0.12515655, 0.11626924,\n",
      "       0.13225211, 0.12960023, 0.11648426, 0.12150128, 0.1155525 ,\n",
      "       0.11834773, 0.08946386, 0.09383587, 0.09025227, 0.08939219,\n",
      "       0.08846048, 0.09096901, 0.09211574, 0.0807199 , 0.08609529,\n",
      "       0.0871704 , 0.0898939 , 0.08588027, 0.0807199 , 0.06767556,\n",
      "       0.07362434, 0.08351508, 0.08437517, 0.09068232, 0.08028986,\n",
      "       0.09749114, 0.09433758, 0.10652184, 0.10351159, 0.1025082 ,\n",
      "       0.10931702, 0.10774025, 0.10852866, 0.09756281, 0.08136492,\n",
      "       0.0840168 , 0.09161403, 0.0919724 , 0.08473353, 0.10021469,\n",
      "       0.09706114, 0.09476763, 0.09691779, 0.06638548, 0.0633036 ,\n",
      "       0.06473703, 0.06774723, 0.07971647, 0.08853215, 0.0930475 ,\n",
      "       0.09648775, 0.07362434, 0.0745561 , 0.08695537, 0.10888703]), array([0.13060366, 0.12644668, 0.12515655, 0.11626924, 0.13225211,\n",
      "       0.12960023, 0.11648426, 0.12150128, 0.1155525 , 0.11834773,\n",
      "       0.08946386, 0.09383587, 0.09025227, 0.08939219, 0.08846048,\n",
      "       0.09096901, 0.09211574, 0.0807199 , 0.08609529, 0.0871704 ,\n",
      "       0.0898939 , 0.08588027, 0.0807199 , 0.06767556, 0.07362434,\n",
      "       0.08351508, 0.08437517, 0.09068232, 0.08028986, 0.09749114,\n",
      "       0.09433758, 0.10652184, 0.10351159, 0.1025082 , 0.10931702,\n",
      "       0.10774025, 0.10852866, 0.09756281, 0.08136492, 0.0840168 ,\n",
      "       0.09161403, 0.0919724 , 0.08473353, 0.10021469, 0.09706114,\n",
      "       0.09476763, 0.09691779, 0.06638548, 0.0633036 , 0.06473703,\n",
      "       0.06774723, 0.07971647, 0.08853215, 0.0930475 , 0.09648775,\n",
      "       0.07362434, 0.0745561 , 0.08695537, 0.10888703, 0.13103366])]\n",
      "[0.13103365533398487, 0.1332554947249795]\n"
     ]
    }
   ],
   "source": [
    "# Training data creation\n",
    "train_data=scaled[0:train_size,:]\n",
    "x_train=[]\n",
    "y_train=[]\n",
    "for i in range(60,len(train_data)):\n",
    "    x_train.append(train_data[i-60:i,0])\n",
    "    y_train.append(train_data[i,0])\n",
    "\n",
    "    if i<=61:\n",
    "        print(x_train)\n",
    "        print(y_train)"
   ]
  },
  {
   "cell_type": "code",
   "execution_count": 56,
   "metadata": {
    "colab": {
     "base_uri": "https://localhost:8080/"
    },
    "id": "vI8jxbQX_I2b",
    "outputId": "aa7e9746-888b-4077-c3d6-6faeddb06692"
   },
   "outputs": [
    {
     "data": {
      "text/plain": [
       "(804, 60, 1)"
      ]
     },
     "execution_count": 56,
     "metadata": {},
     "output_type": "execute_result"
    }
   ],
   "source": [
    "# Reshape the training data using numpy\n",
    "x_train,y_train=np.array(x_train),np.array(y_train)\n",
    "x_train=np.reshape(x_train,(x_train.shape[0],x_train.shape[1],1))\n",
    "x_train.shape"
   ]
  },
  {
   "cell_type": "markdown",
   "metadata": {},
   "source": [
    "In Python, LSTM algorithm required keras library and we will used sequential model. Additionally, we use mean squared error to evaluate our model and adam optimizer to optimize our close price predictions."
   ]
  },
  {
   "cell_type": "code",
   "execution_count": 57,
   "metadata": {
    "id": "D4f8Ea6O_SEf"
   },
   "outputs": [],
   "source": [
    "# Import functions from keras\n",
    "from keras.models import Sequential\n",
    "from keras.layers import Dense,LSTM"
   ]
  },
  {
   "cell_type": "code",
   "execution_count": 58,
   "metadata": {
    "id": "vEppazoV_UoF"
   },
   "outputs": [],
   "source": [
    "# Build LSTM model\n",
    "model=Sequential()\n",
    "model.add(LSTM(50,return_sequences=True,input_shape=(x_train.shape[1],1)))\n",
    "model.add(LSTM(50,return_sequences=False))\n",
    "model.add(Dense(25))\n",
    "model.add(Dense(1))"
   ]
  },
  {
   "cell_type": "code",
   "execution_count": 59,
   "metadata": {
    "id": "6hYcCmo7_Xk8"
   },
   "outputs": [],
   "source": [
    "# Compile the model\n",
    "model.compile(optimizer='adam',loss='mean_squared_error')"
   ]
  },
  {
   "cell_type": "code",
   "execution_count": 60,
   "metadata": {
    "colab": {
     "base_uri": "https://localhost:8080/"
    },
    "id": "Y5lI6XKt_fVx",
    "outputId": "16ad7a59-36e0-4d45-ec91-9ddc4547ae7d"
   },
   "outputs": [
    {
     "name": "stdout",
     "output_type": "stream",
     "text": [
      "804/804 [==============================] - 28s 35ms/step - loss: 0.0028\n"
     ]
    },
    {
     "data": {
      "text/plain": [
       "<tensorflow.python.keras.callbacks.History at 0x1a454e48bb0>"
      ]
     },
     "execution_count": 60,
     "metadata": {},
     "output_type": "execute_result"
    }
   ],
   "source": [
    "model.fit(x_train,y_train,batch_size=1,epochs=1)"
   ]
  },
  {
   "cell_type": "code",
   "execution_count": 61,
   "metadata": {
    "id": "VIk6JOBH_iEe"
   },
   "outputs": [],
   "source": [
    "# Test data creation\n",
    "test_data=scaled[train_size-60:,:]\n",
    "x_test=[]\n",
    "y_test=df_1[train_size:,:]\n",
    "for i in range(60,len(test_data)):\n",
    "    x_test.append(test_data[i-60:i,0])"
   ]
  },
  {
   "cell_type": "code",
   "execution_count": 62,
   "metadata": {
    "id": "NZxHdEGa_myJ"
   },
   "outputs": [],
   "source": [
    "# Set the test independent variable data\n",
    "x_test=np.array(x_test)\n",
    "x_test=np.reshape(x_test,(x_test.shape[0],x_test.shape[1],1))"
   ]
  },
  {
   "cell_type": "code",
   "execution_count": 63,
   "metadata": {
    "id": "xrN1oYCI_wEs"
   },
   "outputs": [],
   "source": [
    "# Predict the close price data\n",
    "prediction=model.predict(x_test)\n",
    "prediction=scaler.inverse_transform(prediction)"
   ]
  },
  {
   "cell_type": "markdown",
   "metadata": {},
   "source": [
    "Lastly, we will plot the predicted vs actual value in a line plot to see how accurate our predictions."
   ]
  },
  {
   "cell_type": "code",
   "execution_count": 64,
   "metadata": {
    "colab": {
     "base_uri": "https://localhost:8080/",
     "height": 513
    },
    "id": "wvmlnIzQAPkr",
    "outputId": "9eb1b0f3-2721-4297-8955-0545b2e5314e"
   },
   "outputs": [
    {
     "data": {
      "image/png": "[encoded data removed]",
      "text/plain": [
       "<Figure size 864x576 with 1 Axes>"
      ]
     },
     "metadata": {
      "needs_background": "light"
     },
     "output_type": "display_data"
    }
   ],
   "source": [
    "# Plot actuval vs predicted value\n",
    "train=data[:train_size]\n",
    "valid=data[train_size:]\n",
    "valid['predictions']=prediction\n",
    "plt.figure(figsize=(12,8))\n",
    "plt.title('Model LM')\n",
    "plt.xlabel('Date')\n",
    "plt.ylabel('close price in rupees')\n",
    "plt.plot(train['Close'])\n",
    "plt.plot(valid[['Close','predictions']])\n",
    "plt.legend(['Train','Valid','predictions'],loc='lower right')\n",
    "plt.show()"
   ]
  },
  {
   "cell_type": "markdown",
   "metadata": {},
   "source": [
    "From the plot above, we can see that our predictions approach its actual value. This code below will display the value of close price predictions versus its actual value."
   ]
  },
  {
   "cell_type": "code",
   "execution_count": 65,
   "metadata": {
    "colab": {
     "base_uri": "https://localhost:8080/",
     "height": 431
    },
    "id": "c90RI7ClBpR0",
    "outputId": "b1701c9d-2960-4da1-9927-604db811849c"
   },
   "outputs": [
    {
     "data": {
      "text/html": [
       "<div>\n",
       "<style scoped>\n",
       "    .dataframe tbody tr th:only-of-type {\n",
       "        vertical-align: middle;\n",
       "    }\n",
       "\n",
       "    .dataframe tbody tr th {\n",
       "        vertical-align: top;\n",
       "    }\n",
       "\n",
       "    .dataframe thead th {\n",
       "        text-align: right;\n",
       "    }\n",
       "</style>\n",
       "<table border=\"1\" class=\"dataframe\">\n",
       "  <thead>\n",
       "    <tr style=\"text-align: right;\">\n",
       "      <th></th>\n",
       "      <th>Close</th>\n",
       "      <th>predictions</th>\n",
       "    </tr>\n",
       "    <tr>\n",
       "      <th>Date</th>\n",
       "      <th></th>\n",
       "      <th></th>\n",
       "    </tr>\n",
       "  </thead>\n",
       "  <tbody>\n",
       "    <tr>\n",
       "      <th>2019-10-22</th>\n",
       "      <td>354.500000</td>\n",
       "      <td>340.397644</td>\n",
       "    </tr>\n",
       "    <tr>\n",
       "      <th>2019-10-23</th>\n",
       "      <td>356.200012</td>\n",
       "      <td>342.327362</td>\n",
       "    </tr>\n",
       "    <tr>\n",
       "      <th>2019-10-24</th>\n",
       "      <td>359.899994</td>\n",
       "      <td>344.120392</td>\n",
       "    </tr>\n",
       "    <tr>\n",
       "      <th>2019-10-25</th>\n",
       "      <td>362.250000</td>\n",
       "      <td>345.974823</td>\n",
       "    </tr>\n",
       "    <tr>\n",
       "      <th>2019-10-29</th>\n",
       "      <td>390.200012</td>\n",
       "      <td>347.893677</td>\n",
       "    </tr>\n",
       "    <tr>\n",
       "      <th>...</th>\n",
       "      <td>...</td>\n",
       "      <td>...</td>\n",
       "    </tr>\n",
       "    <tr>\n",
       "      <th>2021-04-09</th>\n",
       "      <td>899.500000</td>\n",
       "      <td>819.983032</td>\n",
       "    </tr>\n",
       "    <tr>\n",
       "      <th>2021-04-12</th>\n",
       "      <td>851.549988</td>\n",
       "      <td>835.327454</td>\n",
       "    </tr>\n",
       "    <tr>\n",
       "      <th>2021-04-13</th>\n",
       "      <td>879.000000</td>\n",
       "      <td>843.913513</td>\n",
       "    </tr>\n",
       "    <tr>\n",
       "      <th>2021-04-15</th>\n",
       "      <td>898.200012</td>\n",
       "      <td>850.696533</td>\n",
       "    </tr>\n",
       "    <tr>\n",
       "      <th>2021-04-16</th>\n",
       "      <td>890.250000</td>\n",
       "      <td>857.487000</td>\n",
       "    </tr>\n",
       "  </tbody>\n",
       "</table>\n",
       "<p>369 rows × 2 columns</p>\n",
       "</div>"
      ],
      "text/plain": [
       "                 Close  predictions\n",
       "Date                               \n",
       "2019-10-22  354.500000   340.397644\n",
       "2019-10-23  356.200012   342.327362\n",
       "2019-10-24  359.899994   344.120392\n",
       "2019-10-25  362.250000   345.974823\n",
       "2019-10-29  390.200012   347.893677\n",
       "...                ...          ...\n",
       "2021-04-09  899.500000   819.983032\n",
       "2021-04-12  851.549988   835.327454\n",
       "2021-04-13  879.000000   843.913513\n",
       "2021-04-15  898.200012   850.696533\n",
       "2021-04-16  890.250000   857.487000\n",
       "\n",
       "[369 rows x 2 columns]"
      ]
     },
     "execution_count": 65,
     "metadata": {},
     "output_type": "execute_result"
    }
   ],
   "source": [
    "# Display predicted and actual value\n",
    "valid"
   ]
  },
  {
   "cell_type": "markdown",
   "metadata": {
    "id": "HHgNmfrJDXzr"
   },
   "source": [
    "# Sentiment Analysis"
   ]
  },
  {
   "cell_type": "markdown",
   "metadata": {},
   "source": [
    "In this section, I will analyze the headline news data by using Natural Language Preprocessing (NLP). First I will display the headlines data."
   ]
  },
  {
   "cell_type": "code",
   "execution_count": 66,
   "metadata": {
    "colab": {
     "base_uri": "https://localhost:8080/",
     "height": 195
    },
    "id": "tX8RLNt-BsAk",
    "outputId": "4b930b40-d577-4d1e-e1bf-971a9d5418f8"
   },
   "outputs": [
    {
     "data": {
      "text/html": [
       "<div>\n",
       "<style scoped>\n",
       "    .dataframe tbody tr th:only-of-type {\n",
       "        vertical-align: middle;\n",
       "    }\n",
       "\n",
       "    .dataframe tbody tr th {\n",
       "        vertical-align: top;\n",
       "    }\n",
       "\n",
       "    .dataframe thead th {\n",
       "        text-align: right;\n",
       "    }\n",
       "</style>\n",
       "<table border=\"1\" class=\"dataframe\">\n",
       "  <thead>\n",
       "    <tr style=\"text-align: right;\">\n",
       "      <th></th>\n",
       "      <th>publish_date</th>\n",
       "      <th>headline_category</th>\n",
       "      <th>headline_text</th>\n",
       "    </tr>\n",
       "  </thead>\n",
       "  <tbody>\n",
       "    <tr>\n",
       "      <th>0</th>\n",
       "      <td>20010102</td>\n",
       "      <td>unknown</td>\n",
       "      <td>Status quo will not be disturbed at Ayodhya; s...</td>\n",
       "    </tr>\n",
       "    <tr>\n",
       "      <th>1</th>\n",
       "      <td>20010102</td>\n",
       "      <td>unknown</td>\n",
       "      <td>Fissures in Hurriyat over Pak visit</td>\n",
       "    </tr>\n",
       "    <tr>\n",
       "      <th>2</th>\n",
       "      <td>20010102</td>\n",
       "      <td>unknown</td>\n",
       "      <td>America's unwanted heading for India?</td>\n",
       "    </tr>\n",
       "    <tr>\n",
       "      <th>3</th>\n",
       "      <td>20010102</td>\n",
       "      <td>unknown</td>\n",
       "      <td>For bigwigs; it is destination Goa</td>\n",
       "    </tr>\n",
       "    <tr>\n",
       "      <th>4</th>\n",
       "      <td>20010102</td>\n",
       "      <td>unknown</td>\n",
       "      <td>Extra buses to clear tourist traffic</td>\n",
       "    </tr>\n",
       "  </tbody>\n",
       "</table>\n",
       "</div>"
      ],
      "text/plain": [
       "   publish_date headline_category  \\\n",
       "0      20010102           unknown   \n",
       "1      20010102           unknown   \n",
       "2      20010102           unknown   \n",
       "3      20010102           unknown   \n",
       "4      20010102           unknown   \n",
       "\n",
       "                                       headline_text  \n",
       "0  Status quo will not be disturbed at Ayodhya; s...  \n",
       "1                Fissures in Hurriyat over Pak visit  \n",
       "2              America's unwanted heading for India?  \n",
       "3                 For bigwigs; it is destination Goa  \n",
       "4               Extra buses to clear tourist traffic  "
      ]
     },
     "execution_count": 66,
     "metadata": {},
     "output_type": "execute_result"
    }
   ],
   "source": [
    "# Display the first five row in the headlines data\n",
    "raw=pd.read_csv('india-news-headlines.csv')\n",
    "raw.head()"
   ]
  },
  {
   "cell_type": "code",
   "execution_count": 67,
   "metadata": {
    "colab": {
     "base_uri": "https://localhost:8080/",
     "height": 195
    },
    "id": "QhlTrbpFDWNi",
    "outputId": "80abf614-70b1-430e-acae-c3aec1e3e289"
   },
   "outputs": [
    {
     "data": {
      "text/html": [
       "<div>\n",
       "<style scoped>\n",
       "    .dataframe tbody tr th:only-of-type {\n",
       "        vertical-align: middle;\n",
       "    }\n",
       "\n",
       "    .dataframe tbody tr th {\n",
       "        vertical-align: top;\n",
       "    }\n",
       "\n",
       "    .dataframe thead th {\n",
       "        text-align: right;\n",
       "    }\n",
       "</style>\n",
       "<table border=\"1\" class=\"dataframe\">\n",
       "  <thead>\n",
       "    <tr style=\"text-align: right;\">\n",
       "      <th></th>\n",
       "      <th>publish_date</th>\n",
       "      <th>headline_category</th>\n",
       "      <th>headline_text</th>\n",
       "    </tr>\n",
       "  </thead>\n",
       "  <tbody>\n",
       "    <tr>\n",
       "      <th>3424062</th>\n",
       "      <td>20201231</td>\n",
       "      <td>city.jodhpur</td>\n",
       "      <td>Covid-19: Despite dip in cases; Rajasthan amon...</td>\n",
       "    </tr>\n",
       "    <tr>\n",
       "      <th>3424063</th>\n",
       "      <td>20201231</td>\n",
       "      <td>city.udaipur</td>\n",
       "      <td>Covid-19: Despite dip in cases; Rajasthan amon...</td>\n",
       "    </tr>\n",
       "    <tr>\n",
       "      <th>3424064</th>\n",
       "      <td>20201231</td>\n",
       "      <td>city.ajmer</td>\n",
       "      <td>Covid-19: Despite dip in cases; Rajasthan amon...</td>\n",
       "    </tr>\n",
       "    <tr>\n",
       "      <th>3424065</th>\n",
       "      <td>20201231</td>\n",
       "      <td>removed</td>\n",
       "      <td>Govt extends deadline for use of FASTag till F...</td>\n",
       "    </tr>\n",
       "    <tr>\n",
       "      <th>3424066</th>\n",
       "      <td>20201231</td>\n",
       "      <td>entertainment.bengali.movies.news</td>\n",
       "      <td>Celebs plan to party safely and responsibly on...</td>\n",
       "    </tr>\n",
       "  </tbody>\n",
       "</table>\n",
       "</div>"
      ],
      "text/plain": [
       "         publish_date                  headline_category  \\\n",
       "3424062      20201231                       city.jodhpur   \n",
       "3424063      20201231                       city.udaipur   \n",
       "3424064      20201231                         city.ajmer   \n",
       "3424065      20201231                            removed   \n",
       "3424066      20201231  entertainment.bengali.movies.news   \n",
       "\n",
       "                                             headline_text  \n",
       "3424062  Covid-19: Despite dip in cases; Rajasthan amon...  \n",
       "3424063  Covid-19: Despite dip in cases; Rajasthan amon...  \n",
       "3424064  Covid-19: Despite dip in cases; Rajasthan amon...  \n",
       "3424065  Govt extends deadline for use of FASTag till F...  \n",
       "3424066  Celebs plan to party safely and responsibly on...  "
      ]
     },
     "execution_count": 67,
     "metadata": {},
     "output_type": "execute_result"
    }
   ],
   "source": [
    "# Display the last five row in the headlines data\n",
    "raw.tail()"
   ]
  },
  {
   "cell_type": "code",
   "execution_count": 68,
   "metadata": {
    "colab": {
     "base_uri": "https://localhost:8080/",
     "height": 402
    },
    "id": "fkMsOjFtDeXi",
    "outputId": "7f6bdd9c-6da4-483c-e811-791940d4d5e3"
   },
   "outputs": [
    {
     "data": {
      "text/html": [
       "<div>\n",
       "<style scoped>\n",
       "    .dataframe tbody tr th:only-of-type {\n",
       "        vertical-align: middle;\n",
       "    }\n",
       "\n",
       "    .dataframe tbody tr th {\n",
       "        vertical-align: top;\n",
       "    }\n",
       "\n",
       "    .dataframe thead th {\n",
       "        text-align: right;\n",
       "    }\n",
       "</style>\n",
       "<table border=\"1\" class=\"dataframe\">\n",
       "  <thead>\n",
       "    <tr style=\"text-align: right;\">\n",
       "      <th></th>\n",
       "      <th>headline_text</th>\n",
       "    </tr>\n",
       "  </thead>\n",
       "  <tbody>\n",
       "    <tr>\n",
       "      <th>0</th>\n",
       "      <td>Status quo will not be disturbed at Ayodhya; s...</td>\n",
       "    </tr>\n",
       "    <tr>\n",
       "      <th>1</th>\n",
       "      <td>Fissures in Hurriyat over Pak visit</td>\n",
       "    </tr>\n",
       "    <tr>\n",
       "      <th>2</th>\n",
       "      <td>America's unwanted heading for India?</td>\n",
       "    </tr>\n",
       "    <tr>\n",
       "      <th>3</th>\n",
       "      <td>For bigwigs; it is destination Goa</td>\n",
       "    </tr>\n",
       "    <tr>\n",
       "      <th>4</th>\n",
       "      <td>Extra buses to clear tourist traffic</td>\n",
       "    </tr>\n",
       "    <tr>\n",
       "      <th>...</th>\n",
       "      <td>...</td>\n",
       "    </tr>\n",
       "    <tr>\n",
       "      <th>3424062</th>\n",
       "      <td>Covid-19: Despite dip in cases; Rajasthan amon...</td>\n",
       "    </tr>\n",
       "    <tr>\n",
       "      <th>3424063</th>\n",
       "      <td>Covid-19: Despite dip in cases; Rajasthan amon...</td>\n",
       "    </tr>\n",
       "    <tr>\n",
       "      <th>3424064</th>\n",
       "      <td>Covid-19: Despite dip in cases; Rajasthan amon...</td>\n",
       "    </tr>\n",
       "    <tr>\n",
       "      <th>3424065</th>\n",
       "      <td>Govt extends deadline for use of FASTag till F...</td>\n",
       "    </tr>\n",
       "    <tr>\n",
       "      <th>3424066</th>\n",
       "      <td>Celebs plan to party safely and responsibly on...</td>\n",
       "    </tr>\n",
       "  </tbody>\n",
       "</table>\n",
       "<p>3424067 rows × 1 columns</p>\n",
       "</div>"
      ],
      "text/plain": [
       "                                             headline_text\n",
       "0        Status quo will not be disturbed at Ayodhya; s...\n",
       "1                      Fissures in Hurriyat over Pak visit\n",
       "2                    America's unwanted heading for India?\n",
       "3                       For bigwigs; it is destination Goa\n",
       "4                     Extra buses to clear tourist traffic\n",
       "...                                                    ...\n",
       "3424062  Covid-19: Despite dip in cases; Rajasthan amon...\n",
       "3424063  Covid-19: Despite dip in cases; Rajasthan amon...\n",
       "3424064  Covid-19: Despite dip in cases; Rajasthan amon...\n",
       "3424065  Govt extends deadline for use of FASTag till F...\n",
       "3424066  Celebs plan to party safely and responsibly on...\n",
       "\n",
       "[3424067 rows x 1 columns]"
      ]
     },
     "execution_count": 68,
     "metadata": {},
     "output_type": "execute_result"
    }
   ],
   "source": [
    "# Copy the headline text column into a new data frame and display it\n",
    "raw_df=raw[['headline_text']].copy()\n",
    "raw_df"
   ]
  },
  {
   "cell_type": "code",
   "execution_count": 69,
   "metadata": {
    "colab": {
     "base_uri": "https://localhost:8080/",
     "height": 195
    },
    "id": "2P9qH5a6FQxC",
    "outputId": "d10fb2e2-b59a-479e-cf49-6b305f72533e"
   },
   "outputs": [
    {
     "data": {
      "text/html": [
       "<div>\n",
       "<style scoped>\n",
       "    .dataframe tbody tr th:only-of-type {\n",
       "        vertical-align: middle;\n",
       "    }\n",
       "\n",
       "    .dataframe tbody tr th {\n",
       "        vertical-align: top;\n",
       "    }\n",
       "\n",
       "    .dataframe thead th {\n",
       "        text-align: right;\n",
       "    }\n",
       "</style>\n",
       "<table border=\"1\" class=\"dataframe\">\n",
       "  <thead>\n",
       "    <tr style=\"text-align: right;\">\n",
       "      <th></th>\n",
       "      <th>headline_text</th>\n",
       "    </tr>\n",
       "  </thead>\n",
       "  <tbody>\n",
       "    <tr>\n",
       "      <th>0</th>\n",
       "      <td>Status quo will not be disturbed at Ayodhya; s...</td>\n",
       "    </tr>\n",
       "    <tr>\n",
       "      <th>1</th>\n",
       "      <td>Fissures in Hurriyat over Pak visit</td>\n",
       "    </tr>\n",
       "    <tr>\n",
       "      <th>2</th>\n",
       "      <td>America's unwanted heading for India?</td>\n",
       "    </tr>\n",
       "    <tr>\n",
       "      <th>3</th>\n",
       "      <td>For bigwigs; it is destination Goa</td>\n",
       "    </tr>\n",
       "    <tr>\n",
       "      <th>4</th>\n",
       "      <td>Extra buses to clear tourist traffic</td>\n",
       "    </tr>\n",
       "  </tbody>\n",
       "</table>\n",
       "</div>"
      ],
      "text/plain": [
       "                                       headline_text\n",
       "0  Status quo will not be disturbed at Ayodhya; s...\n",
       "1                Fissures in Hurriyat over Pak visit\n",
       "2              America's unwanted heading for India?\n",
       "3                 For bigwigs; it is destination Goa\n",
       "4               Extra buses to clear tourist traffic"
      ]
     },
     "execution_count": 69,
     "metadata": {},
     "output_type": "execute_result"
    }
   ],
   "source": [
    "# Display the first five row in the headline column\n",
    "raw_df.head()"
   ]
  },
  {
   "cell_type": "markdown",
   "metadata": {},
   "source": [
    "Next, we will check does the headline column contains a missing value."
   ]
  },
  {
   "cell_type": "code",
   "execution_count": 70,
   "metadata": {
    "colab": {
     "base_uri": "https://localhost:8080/"
    },
    "id": "ehfgy0LpFTbb",
    "outputId": "39614d8a-9be4-4d21-8fb3-726541073c9e"
   },
   "outputs": [
    {
     "data": {
      "text/plain": [
       "headline_text    0\n",
       "dtype: int64"
      ]
     },
     "execution_count": 70,
     "metadata": {},
     "output_type": "execute_result"
    }
   ],
   "source": [
    "# Check for missing value\n",
    "raw_df.isnull().sum()"
   ]
  },
  {
   "cell_type": "markdown",
   "metadata": {},
   "source": [
    "We can see that headline text columns does not contains any missing value."
   ]
  },
  {
   "cell_type": "code",
   "execution_count": 71,
   "metadata": {
    "colab": {
     "base_uri": "https://localhost:8080/",
     "height": 195
    },
    "id": "inIPjpB-NM0c",
    "outputId": "8c3eeb67-36f1-4fdd-e413-3e5391e9d60e"
   },
   "outputs": [
    {
     "data": {
      "text/html": [
       "<div>\n",
       "<style scoped>\n",
       "    .dataframe tbody tr th:only-of-type {\n",
       "        vertical-align: middle;\n",
       "    }\n",
       "\n",
       "    .dataframe tbody tr th {\n",
       "        vertical-align: top;\n",
       "    }\n",
       "\n",
       "    .dataframe thead th {\n",
       "        text-align: right;\n",
       "    }\n",
       "</style>\n",
       "<table border=\"1\" class=\"dataframe\">\n",
       "  <thead>\n",
       "    <tr style=\"text-align: right;\">\n",
       "      <th></th>\n",
       "      <th>headline_text</th>\n",
       "    </tr>\n",
       "  </thead>\n",
       "  <tbody>\n",
       "    <tr>\n",
       "      <th>0</th>\n",
       "      <td>Status quo will not be disturbed at Ayodhya; s...</td>\n",
       "    </tr>\n",
       "    <tr>\n",
       "      <th>1</th>\n",
       "      <td>Fissures in Hurriyat over Pak visit</td>\n",
       "    </tr>\n",
       "    <tr>\n",
       "      <th>2</th>\n",
       "      <td>America's unwanted heading for India?</td>\n",
       "    </tr>\n",
       "    <tr>\n",
       "      <th>3</th>\n",
       "      <td>For bigwigs; it is destination Goa</td>\n",
       "    </tr>\n",
       "    <tr>\n",
       "      <th>4</th>\n",
       "      <td>Extra buses to clear tourist traffic</td>\n",
       "    </tr>\n",
       "  </tbody>\n",
       "</table>\n",
       "</div>"
      ],
      "text/plain": [
       "                                       headline_text\n",
       "0  Status quo will not be disturbed at Ayodhya; s...\n",
       "1                Fissures in Hurriyat over Pak visit\n",
       "2              America's unwanted heading for India?\n",
       "3                 For bigwigs; it is destination Goa\n",
       "4               Extra buses to clear tourist traffic"
      ]
     },
     "execution_count": 71,
     "metadata": {},
     "output_type": "execute_result"
    }
   ],
   "source": [
    "# Display the first five rows in the headline columns\n",
    "raw_df=raw_df.iloc[:15000,:]\n",
    "raw_df.head()"
   ]
  },
  {
   "cell_type": "code",
   "execution_count": 90,
   "metadata": {
    "colab": {
     "base_uri": "https://localhost:8080/"
    },
    "id": "qdFnOmVEN-j7",
    "outputId": "cd0e3b4c-a162-4856-e7c5-5ffb8e59e1a7"
   },
   "outputs": [
    {
     "name": "stdout",
     "output_type": "stream",
     "text": [
      "Rows: 15000\n",
      "Columns: 1\n"
     ]
    }
   ],
   "source": [
    "# Display the shape of the headline column\n",
    "# Display data shape\n",
    "print('Rows: {}'.format(raw_df.shape[0]))\n",
    "print('Columns: {}'.format(raw_df.shape[1]))"
   ]
  },
  {
   "cell_type": "markdown",
   "metadata": {},
   "source": [
    "After observing the headline news data, I will import the natural language library in Python."
   ]
  },
  {
   "cell_type": "code",
   "execution_count": 73,
   "metadata": {
    "id": "6K0NXAbwI84m"
   },
   "outputs": [],
   "source": [
    "# Import NLP library\n",
    "import nltk\n",
    "from nltk.sentiment.vader import SentimentIntensityAnalyzer\n"
   ]
  },
  {
   "cell_type": "code",
   "execution_count": 74,
   "metadata": {
    "colab": {
     "base_uri": "https://localhost:8080/"
    },
    "id": "byU09vwdJGt9",
    "outputId": "3bf016d7-d3a5-43fc-924e-4daa374134cc"
   },
   "outputs": [
    {
     "name": "stderr",
     "output_type": "stream",
     "text": [
      "[nltk_data] Downloading package vader_lexicon to\n",
      "[nltk_data]     C:\\Users\\Asus\\AppData\\Roaming\\nltk_data...\n",
      "[nltk_data]   Package vader_lexicon is already up-to-date!\n",
      "[nltk_data] Downloading package stopwords to\n",
      "[nltk_data]     C:\\Users\\Asus\\AppData\\Roaming\\nltk_data...\n",
      "[nltk_data]   Package stopwords is already up-to-date!\n"
     ]
    },
    {
     "data": {
      "text/plain": [
       "True"
      ]
     },
     "execution_count": 74,
     "metadata": {},
     "output_type": "execute_result"
    }
   ],
   "source": [
    "# Import vader lexicon and stopwords\n",
    "nltk.download('vader_lexicon')\n",
    "nltk.download('stopwords')"
   ]
  },
  {
   "cell_type": "markdown",
   "metadata": {},
   "source": [
    "Lets add the necessary score in sentimental analysis to evaluate the headline."
   ]
  },
  {
   "cell_type": "code",
   "execution_count": 75,
   "metadata": {
    "colab": {
     "base_uri": "https://localhost:8080/",
     "height": 195
    },
    "id": "8rH6pVFmJR9_",
    "outputId": "2ac93632-8f02-42d8-fdac-695c463fc6d5"
   },
   "outputs": [
    {
     "data": {
      "text/html": [
       "<div>\n",
       "<style scoped>\n",
       "    .dataframe tbody tr th:only-of-type {\n",
       "        vertical-align: middle;\n",
       "    }\n",
       "\n",
       "    .dataframe tbody tr th {\n",
       "        vertical-align: top;\n",
       "    }\n",
       "\n",
       "    .dataframe thead th {\n",
       "        text-align: right;\n",
       "    }\n",
       "</style>\n",
       "<table border=\"1\" class=\"dataframe\">\n",
       "  <thead>\n",
       "    <tr style=\"text-align: right;\">\n",
       "      <th></th>\n",
       "      <th>neg</th>\n",
       "      <th>neu</th>\n",
       "      <th>pos</th>\n",
       "      <th>compound</th>\n",
       "      <th>headline</th>\n",
       "    </tr>\n",
       "  </thead>\n",
       "  <tbody>\n",
       "    <tr>\n",
       "      <th>0</th>\n",
       "      <td>0.000</td>\n",
       "      <td>0.805</td>\n",
       "      <td>0.195</td>\n",
       "      <td>0.2924</td>\n",
       "      <td>Status quo will not be disturbed at Ayodhya; s...</td>\n",
       "    </tr>\n",
       "    <tr>\n",
       "      <th>1</th>\n",
       "      <td>0.000</td>\n",
       "      <td>1.000</td>\n",
       "      <td>0.000</td>\n",
       "      <td>0.0000</td>\n",
       "      <td>Fissures in Hurriyat over Pak visit</td>\n",
       "    </tr>\n",
       "    <tr>\n",
       "      <th>2</th>\n",
       "      <td>0.322</td>\n",
       "      <td>0.678</td>\n",
       "      <td>0.000</td>\n",
       "      <td>-0.2263</td>\n",
       "      <td>America's unwanted heading for India?</td>\n",
       "    </tr>\n",
       "    <tr>\n",
       "      <th>3</th>\n",
       "      <td>0.000</td>\n",
       "      <td>1.000</td>\n",
       "      <td>0.000</td>\n",
       "      <td>0.0000</td>\n",
       "      <td>For bigwigs; it is destination Goa</td>\n",
       "    </tr>\n",
       "    <tr>\n",
       "      <th>4</th>\n",
       "      <td>0.000</td>\n",
       "      <td>0.658</td>\n",
       "      <td>0.342</td>\n",
       "      <td>0.3818</td>\n",
       "      <td>Extra buses to clear tourist traffic</td>\n",
       "    </tr>\n",
       "  </tbody>\n",
       "</table>\n",
       "</div>"
      ],
      "text/plain": [
       "     neg    neu    pos  compound  \\\n",
       "0  0.000  0.805  0.195    0.2924   \n",
       "1  0.000  1.000  0.000    0.0000   \n",
       "2  0.322  0.678  0.000   -0.2263   \n",
       "3  0.000  1.000  0.000    0.0000   \n",
       "4  0.000  0.658  0.342    0.3818   \n",
       "\n",
       "                                            headline  \n",
       "0  Status quo will not be disturbed at Ayodhya; s...  \n",
       "1                Fissures in Hurriyat over Pak visit  \n",
       "2              America's unwanted heading for India?  \n",
       "3                 For bigwigs; it is destination Goa  \n",
       "4               Extra buses to clear tourist traffic  "
      ]
     },
     "execution_count": 75,
     "metadata": {},
     "output_type": "execute_result"
    }
   ],
   "source": [
    "# Evaluate the headline category into three types of tendency value: positive, neutral, and negative\n",
    "sid=SentimentIntensityAnalyzer()\n",
    "result=[]\n",
    "for line in raw_df['headline_text']:\n",
    "    scores=sid.polarity_scores(line)\n",
    "    scores['headline']=line\n",
    "    result.append(scores)\n",
    "rev=pd.DataFrame(result)\n",
    "rev.head()"
   ]
  },
  {
   "cell_type": "code",
   "execution_count": 89,
   "metadata": {
    "colab": {
     "base_uri": "https://localhost:8080/"
    },
    "id": "fC18BKzQK_fc",
    "outputId": "4bdcaffa-bd24-47fe-85da-441990dca340"
   },
   "outputs": [
    {
     "name": "stdout",
     "output_type": "stream",
     "text": [
      "Rows: 15000\n",
      "Columns: 6\n"
     ]
    }
   ],
   "source": [
    "# Display the shape of the new data frame\n",
    "# Display data shape\n",
    "print('Rows: {}'.format(rev.shape[0]))\n",
    "print('Columns: {}'.format(rev.shape[1]))"
   ]
  },
  {
   "cell_type": "markdown",
   "metadata": {},
   "source": [
    "In sentimental analysis, we will add a sentiment score to evaluate the headline data."
   ]
  },
  {
   "cell_type": "code",
   "execution_count": 77,
   "metadata": {
    "colab": {
     "base_uri": "https://localhost:8080/",
     "height": 195
    },
    "id": "uG88gITgORMa",
    "outputId": "09df8c4e-e7d7-45b8-92f0-c595305f531c"
   },
   "outputs": [
    {
     "data": {
      "text/html": [
       "<div>\n",
       "<style scoped>\n",
       "    .dataframe tbody tr th:only-of-type {\n",
       "        vertical-align: middle;\n",
       "    }\n",
       "\n",
       "    .dataframe tbody tr th {\n",
       "        vertical-align: top;\n",
       "    }\n",
       "\n",
       "    .dataframe thead th {\n",
       "        text-align: right;\n",
       "    }\n",
       "</style>\n",
       "<table border=\"1\" class=\"dataframe\">\n",
       "  <thead>\n",
       "    <tr style=\"text-align: right;\">\n",
       "      <th></th>\n",
       "      <th>neg</th>\n",
       "      <th>neu</th>\n",
       "      <th>pos</th>\n",
       "      <th>compound</th>\n",
       "      <th>headline</th>\n",
       "      <th>scores</th>\n",
       "    </tr>\n",
       "  </thead>\n",
       "  <tbody>\n",
       "    <tr>\n",
       "      <th>0</th>\n",
       "      <td>0.000</td>\n",
       "      <td>0.805</td>\n",
       "      <td>0.195</td>\n",
       "      <td>0.2924</td>\n",
       "      <td>Status quo will not be disturbed at Ayodhya; s...</td>\n",
       "      <td>1</td>\n",
       "    </tr>\n",
       "    <tr>\n",
       "      <th>1</th>\n",
       "      <td>0.000</td>\n",
       "      <td>1.000</td>\n",
       "      <td>0.000</td>\n",
       "      <td>0.0000</td>\n",
       "      <td>Fissures in Hurriyat over Pak visit</td>\n",
       "      <td>0</td>\n",
       "    </tr>\n",
       "    <tr>\n",
       "      <th>2</th>\n",
       "      <td>0.322</td>\n",
       "      <td>0.678</td>\n",
       "      <td>0.000</td>\n",
       "      <td>-0.2263</td>\n",
       "      <td>America's unwanted heading for India?</td>\n",
       "      <td>-1</td>\n",
       "    </tr>\n",
       "    <tr>\n",
       "      <th>3</th>\n",
       "      <td>0.000</td>\n",
       "      <td>1.000</td>\n",
       "      <td>0.000</td>\n",
       "      <td>0.0000</td>\n",
       "      <td>For bigwigs; it is destination Goa</td>\n",
       "      <td>0</td>\n",
       "    </tr>\n",
       "    <tr>\n",
       "      <th>4</th>\n",
       "      <td>0.000</td>\n",
       "      <td>0.658</td>\n",
       "      <td>0.342</td>\n",
       "      <td>0.3818</td>\n",
       "      <td>Extra buses to clear tourist traffic</td>\n",
       "      <td>1</td>\n",
       "    </tr>\n",
       "  </tbody>\n",
       "</table>\n",
       "</div>"
      ],
      "text/plain": [
       "     neg    neu    pos  compound  \\\n",
       "0  0.000  0.805  0.195    0.2924   \n",
       "1  0.000  1.000  0.000    0.0000   \n",
       "2  0.322  0.678  0.000   -0.2263   \n",
       "3  0.000  1.000  0.000    0.0000   \n",
       "4  0.000  0.658  0.342    0.3818   \n",
       "\n",
       "                                            headline  scores  \n",
       "0  Status quo will not be disturbed at Ayodhya; s...       1  \n",
       "1                Fissures in Hurriyat over Pak visit       0  \n",
       "2              America's unwanted heading for India?      -1  \n",
       "3                 For bigwigs; it is destination Goa       0  \n",
       "4               Extra buses to clear tourist traffic       1  "
      ]
     },
     "execution_count": 77,
     "metadata": {},
     "output_type": "execute_result"
    }
   ],
   "source": [
    "# Add ratings score\n",
    "ratings=[]\n",
    "for row in rev['compound']:\n",
    "    if row >= 0.05 :\n",
    "        ratings.append(1)\n",
    "    elif row <= - 0.05 :\n",
    "        ratings.append(-1)\n",
    "    else :\n",
    "        ratings.append(0)\n",
    "\n",
    "rev['scores']=ratings\n",
    "rev.head()"
   ]
  },
  {
   "cell_type": "markdown",
   "metadata": {},
   "source": [
    "In the subsequent steps, we will count the value in ratings column before and after normalization."
   ]
  },
  {
   "cell_type": "code",
   "execution_count": 78,
   "metadata": {
    "colab": {
     "base_uri": "https://localhost:8080/"
    },
    "id": "z2pLI5WdUhEv",
    "outputId": "227aa431-fc9f-4d28-fb71-2746e1477861"
   },
   "outputs": [
    {
     "data": {
      "text/plain": [
       " 0    8145\n",
       "-1    3883\n",
       " 1    2972\n",
       "Name: scores, dtype: int64"
      ]
     },
     "execution_count": 78,
     "metadata": {},
     "output_type": "execute_result"
    }
   ],
   "source": [
    "# Before normalization\n",
    "rev['scores'].value_counts()"
   ]
  },
  {
   "cell_type": "code",
   "execution_count": 79,
   "metadata": {
    "colab": {
     "base_uri": "https://localhost:8080/"
    },
    "id": "DktnZLzJfSFK",
    "outputId": "2a619d0e-dfeb-47a3-daa9-6a19e00d1d18"
   },
   "outputs": [
    {
     "data": {
      "text/plain": [
       " 0    54.300000\n",
       "-1    25.886667\n",
       " 1    19.813333\n",
       "Name: scores, dtype: float64"
      ]
     },
     "execution_count": 79,
     "metadata": {},
     "output_type": "execute_result"
    }
   ],
   "source": [
    "# After normalization\n",
    "a=rev['scores'].value_counts(normalize=True)*100\n",
    "a"
   ]
  },
  {
   "cell_type": "markdown",
   "metadata": {},
   "source": [
    "Lets count the sentiment distibution."
   ]
  },
  {
   "cell_type": "code",
   "execution_count": 80,
   "metadata": {
    "colab": {
     "base_uri": "https://localhost:8080/",
     "height": 281
    },
    "id": "uY49rPgWfgKk",
    "outputId": "d96b9699-35eb-46f4-a5f6-78df99c984cb"
   },
   "outputs": [
    {
     "data": {
      "image/png": "[encoded data removed]",
      "text/plain": [
       "<Figure size 432x288 with 1 Axes>"
      ]
     },
     "metadata": {
      "needs_background": "light"
     },
     "output_type": "display_data"
    }
   ],
   "source": [
    "# Display sentimental value count.\n",
    "import seaborn as sns\n",
    "f = sns.countplot(x='scores', data=rev)\n",
    "f.set_title(\"Sentiment distribution\")\n",
    "f.set_xticklabels(['Negative', 'Neutral','Positive'])\n",
    "plt.xlabel(\"\");"
   ]
  },
  {
   "cell_type": "markdown",
   "metadata": {},
   "source": [
    "We can see that the headline text mostly has neutral sentiment while less than a quarter of the headline has positive sentiment. For the negative sentiment headline, we can see that less than one third of the headlines has this characteristics. Lets create a word cloud to see which headline is more often to see in the headline news data."
   ]
  },
  {
   "cell_type": "code",
   "execution_count": 81,
   "metadata": {
    "colab": {
     "base_uri": "https://localhost:8080/",
     "height": 216
    },
    "id": "4GHOB7JVjK5x",
    "outputId": "34ad3f1f-3cf3-444d-e337-bfa1c49d1637"
   },
   "outputs": [
    {
     "data": {
      "text/plain": [
       "<Figure size 864x576 with 0 Axes>"
      ]
     },
     "metadata": {},
     "output_type": "display_data"
    },
    {
     "data": {
      "image/png": "[encoded data removed]",
      "text/plain": [
       "<Figure size 432x288 with 1 Axes>"
      ]
     },
     "metadata": {
      "needs_background": "light"
     },
     "output_type": "display_data"
    }
   ],
   "source": [
    "# Build a word cloud\n",
    "from wordcloud import WordCloud\n",
    "from nltk.corpus import stopwords\n",
    "text = \" \".join(review for review in rev.headline)\n",
    "plt.figure(figsize=(12,8))\n",
    "wordcloud = WordCloud(max_font_size=50, max_words=100, background_color=\"white\", stopwords=stopwords.words(\"english\")).generate(text)\n",
    "plt.figure()\n",
    "plt.imshow(wordcloud, interpolation=\"bilinear\")\n",
    "plt.axis(\"off\")\n",
    "plt.show();"
   ]
  },
  {
   "cell_type": "markdown",
   "metadata": {},
   "source": [
    "From the word cloud above, we can see that government and India headline news are the most often headline that contains in the headline data."
   ]
  },
  {
   "cell_type": "code",
   "execution_count": 82,
   "metadata": {
    "colab": {
     "base_uri": "https://localhost:8080/"
    },
    "id": "yAj4ZlBgkWa1",
    "outputId": "66a1ff95-425b-4e32-d726-4bd528682805"
   },
   "outputs": [
    {
     "data": {
      "text/plain": [
       "['Status quo will not be disturbed at Ayodhya; says Vajpayee',\n",
       " 'Fissures in Hurriyat over Pak visit',\n",
       " \"America's unwanted heading for India?\",\n",
       " 'For bigwigs; it is destination Goa',\n",
       " 'Extra buses to clear tourist traffic']"
      ]
     },
     "execution_count": 82,
     "metadata": {},
     "output_type": "execute_result"
    }
   ],
   "source": [
    "# Convert headline value columns to a lis\n",
    "z=rev['headline'].values.tolist()\n",
    "z[0:5]"
   ]
  },
  {
   "cell_type": "markdown",
   "metadata": {},
   "source": [
    "Lets define our stopwords and tokenizer."
   ]
  },
  {
   "cell_type": "code",
   "execution_count": 83,
   "metadata": {
    "id": "cXsv2FSbKShQ"
   },
   "outputs": [],
   "source": [
    "# Define stopwords and tokenizer\n",
    "from nltk.tokenize import word_tokenize, RegexpTokenizer\n",
    "from nltk.corpus import stopwords\n",
    "\n",
    "stop_words = stopwords.words('english')\n",
    "tokenizer = RegexpTokenizer(r'\\w+')"
   ]
  },
  {
   "cell_type": "code",
   "execution_count": 84,
   "metadata": {
    "id": "bz6zWR-LKn3P"
   },
   "outputs": [],
   "source": [
    "# Define text processing functions\n",
    "def process_text(z):\n",
    "    tokens = []\n",
    "    for line in z:\n",
    "        toks = tokenizer.tokenize(line)\n",
    "        toks = [t.lower() for t in toks if t.lower() not in stop_words]\n",
    "        tokens.extend(toks)\n",
    "    \n",
    "    return tokens"
   ]
  },
  {
   "cell_type": "markdown",
   "metadata": {},
   "source": [
    "Then, we will display the positive, negative, and neutral headlines respectively."
   ]
  },
  {
   "cell_type": "code",
   "execution_count": 85,
   "metadata": {
    "colab": {
     "base_uri": "https://localhost:8080/"
    },
    "id": "nQmH9GKmKy4F",
    "outputId": "0b75df04-d5b9-4ed5-c623-51b885162830"
   },
   "outputs": [
    {
     "data": {
      "text/plain": [
       "[('govt', 125),\n",
       " ('straight', 94),\n",
       " ('answers', 86),\n",
       " ('india', 84),\n",
       " ('relief', 60),\n",
       " ('top', 59),\n",
       " ('security', 57),\n",
       " ('help', 53),\n",
       " ('rs', 49),\n",
       " ('peace', 48),\n",
       " ('best', 44),\n",
       " ('us', 44),\n",
       " ('good', 43),\n",
       " ('new', 43),\n",
       " ('support', 40),\n",
       " ('indian', 39),\n",
       " ('special', 39),\n",
       " ('cm', 38),\n",
       " ('centre', 38),\n",
       " ('party', 36)]"
      ]
     },
     "execution_count": 85,
     "metadata": {},
     "output_type": "execute_result"
    }
   ],
   "source": [
    "# Display positive headlines\n",
    "pos_lines = list(rev[rev.scores == 1].headline)\n",
    "\n",
    "pos_tokens = process_text(pos_lines)\n",
    "pos_freq = nltk.FreqDist(pos_tokens)\n",
    "\n",
    "pos_freq.most_common(20)"
   ]
  },
  {
   "cell_type": "code",
   "execution_count": 86,
   "metadata": {
    "colab": {
     "base_uri": "https://localhost:8080/"
    },
    "id": "J_wBaMiNK9A9",
    "outputId": "204c30f3-9c9b-462c-967d-4030c8a8b518"
   },
   "outputs": [
    {
     "data": {
      "text/plain": [
       "[('govt', 162),\n",
       " ('killed', 148),\n",
       " ('police', 99),\n",
       " ('case', 89),\n",
       " ('death', 87),\n",
       " ('india', 81),\n",
       " ('murder', 71),\n",
       " ('strike', 66),\n",
       " ('dead', 66),\n",
       " ('arrested', 61),\n",
       " ('held', 60),\n",
       " ('bjp', 58),\n",
       " ('attack', 58),\n",
       " ('accused', 56),\n",
       " ('3', 55),\n",
       " ('phoolan', 55),\n",
       " ('protest', 54),\n",
       " ('says', 53),\n",
       " ('ban', 52),\n",
       " ('fire', 48)]"
      ]
     },
     "execution_count": 86,
     "metadata": {},
     "output_type": "execute_result"
    }
   ],
   "source": [
    "# Display negative headlines\n",
    "neg_lines = list(rev[rev.scores == -1].headline)\n",
    "\n",
    "neg_tokens = process_text(neg_lines)\n",
    "neg_freq = nltk.FreqDist(neg_tokens)\n",
    "\n",
    "neg_freq.most_common(20)"
   ]
  },
  {
   "cell_type": "code",
   "execution_count": 87,
   "metadata": {},
   "outputs": [
    {
     "data": {
      "text/plain": [
       "[('govt', 297),\n",
       " ('india', 262),\n",
       " ('new', 194),\n",
       " ('rs', 135),\n",
       " ('police', 124),\n",
       " ('bjp', 114),\n",
       " ('may', 113),\n",
       " ('us', 109),\n",
       " ('centre', 101),\n",
       " ('meet', 100),\n",
       " ('state', 97),\n",
       " ('cm', 96),\n",
       " ('case', 93),\n",
       " ('get', 91),\n",
       " ('hc', 91),\n",
       " ('indian', 90),\n",
       " ('power', 88),\n",
       " ('cong', 86),\n",
       " ('pak', 84),\n",
       " ('chief', 84)]"
      ]
     },
     "execution_count": 87,
     "metadata": {},
     "output_type": "execute_result"
    }
   ],
   "source": [
    "# Display the neutral headlines\n",
    "neu_lines = list(rev[rev.scores == 0].headline)\n",
    "\n",
    "neu_tokens = process_text(neu_lines)\n",
    "neu_freq = nltk.FreqDist(neu_tokens)\n",
    "\n",
    "neu_freq.most_common(20)"
   ]
  },
  {
   "cell_type": "markdown",
   "metadata": {},
   "source": [
    "From the output above, we can see that the top headlines for each categories is government headlines."
   ]
  }
 ],
 "metadata": {
  "colab": {
   "collapsed_sections": [],
   "name": "Stock Prediction and Sentiment Analysis.ipynb",
   "provenance": []
  },
  "kernelspec": {
   "display_name": "Python 3",
   "language": "python",
   "name": "python3"
  },
  "language_info": {
   "codemirror_mode": {
    "name": "ipython",
    "version": 3
   },
   "file_extension": ".py",
   "mimetype": "text/x-python",
   "name": "python",
   "nbconvert_exporter": "python",
   "pygments_lexer": "ipython3",
   "version": "3.8.3"
  }
 },
 "nbformat": 4,
 "nbformat_minor": 1
}
